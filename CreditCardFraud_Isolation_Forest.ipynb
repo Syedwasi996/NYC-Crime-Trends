# Credit Card Fraud Detection

This project focuses on detecting fraudulent credit card transactions using anomaly detection and classification techniques.

## 📌 Overview
- Implemented **Isolation Forest** for anomaly detection but achieved suboptimal results.
- Switched to **Random Forest**, significantly improving fraud detection performance.
- Addressed **imbalanced data** using **SMOTE**.
- Evaluated models using the **classification report and Precision-Recall Curve**.

## 🛠️ Technologies Used
- Python (Pandas, Scikit-learn, NumPy)
- Machine Learning (Isolation Forest, Random Forest)
- Data Preprocessing (Scaling, Handling Imbalanced Data)
- Jupyter Notebook

## 🚀 How to Run
1. Clone the repository:
```
git clone https://github.com/Syedwasi996/myprojects.git
```
2. Open `CreditCardFraud_Isolation_Forest.ipynb` in Jupyter Notebook.
3. Run the notebook to see fraud detection results.

