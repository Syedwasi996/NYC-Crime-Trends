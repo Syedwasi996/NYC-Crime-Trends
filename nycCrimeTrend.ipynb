{
  "nbformat": 4,
  "nbformat_minor": 0,
  "metadata": {
    "colab": {
      "provenance": []
    },
    "kernelspec": {
      "name": "python3",
      "display_name": "Python 3"
    },
    "language_info": {
      "name": "python"
    }
  },
  "cells": [
    {
      "cell_type": "markdown",
      "source": [
        "**NYC Crime Trend Analysis** - SyedH"
      ],
      "metadata": {
        "id": "Xl2VH0pNvBBw"
      }
    },
    {
      "cell_type": "code",
      "execution_count": 1,
      "metadata": {
        "id": "Vicvd_7OV8jR"
      },
      "outputs": [],
      "source": [
        "import pandas as pd\n",
        "import numpy as np\n",
        "import matplotlib.pyplot as plt\n",
        "import seaborn as sns\n",
        "%matplotlib inline "
      ]
    },
    {
      "cell_type": "code",
      "source": [
        "# Read the CSV file into a DataFrame\n",
        "dataSet = pd.read_csv('arrest_data.csv')\n",
        "\n",
        "#Options to display all rows and columns\n",
        "pd.set_option('display.max_rows', None)\n",
        "pd.set_option('display.max_columns', None)\n",
        "dataSet.head(10)\n"
      ],
      "metadata": {
        "id": "HcabPGUhV_Gq"
      },
      "execution_count": null,
      "outputs": []
    },
    {
      "cell_type": "code",
      "source": [
        "# Dropping rows with missing values\n",
        "dataS = dataSet.dropna()\n",
        "dataS.head(10)"
      ],
      "metadata": {
        "id": "KbdMXxeGZHp1"
      },
      "execution_count": null,
      "outputs": []
    },
    {
      "cell_type": "code",
      "source": [
        "# Number of rows and columns\n",
        "rows = dataSet.shape[0]\n",
        "columns = dataSet.shape[1]\n",
        "print(rows)\n",
        "print(columns)"
      ],
      "metadata": {
        "id": "rWpejhjT4VxF",
        "colab": {
          "base_uri": "https://localhost:8080/"
        },
        "outputId": "0e1f107c-3b0f-4462-898b-fc029671d016"
      },
      "execution_count": 10,
      "outputs": [
        {
          "output_type": "stream",
          "name": "stdout",
          "text": [
            "189774\n",
            "24\n"
          ]
        }
      ]
    },
    {
      "cell_type": "code",
      "source": [
        "# Converting 'ARREST_DATE' column to datetime\n",
        "dataS['ARREST_DATE'] = pd.to_datetime(dataS['ARREST_DATE'])\n",
        "\n",
        "# Sort the dataset by 'ARREST_DATE'\n",
        "dataS = dataS.sort_values(by='ARREST_DATE')\n",
        "\n",
        "dataS.head(10)\n"
      ],
      "metadata": {
        "id": "fo7AGFLJw4TE"
      },
      "execution_count": null,
      "outputs": []
    },
    {
      "cell_type": "code",
      "source": [
        "# Reseting the index of the dataset\n",
        "dataS = dataS.reset_index(drop=True)\n",
        "dataS.head(10)"
      ],
      "metadata": {
        "id": "nrpjo5VaxsrY"
      },
      "execution_count": null,
      "outputs": []
    },
    {
      "cell_type": "code",
      "source": [
        "# Replacing abbreviations in 'ARREST_BORO' column with full names\n",
        "dataS['ARREST_BORO'] = dataS['ARREST_BORO'].replace({'Q': 'QUEENS',\n",
        "                                                         'K': 'BROOKLYN',\n",
        "                                                         'B': 'BRONX',\n",
        "                                                         'M': 'MANHATTAN',\n",
        "                                                         'S': 'STATEN ISLAND'\n",
        "                                                         })\n",
        "# Save the cleaned dataset to a CSV file\n",
        "dataS.to_csv('arrest_data.csv', index = False)"
      ],
      "metadata": {
        "id": "AZB_6IaXGpEZ"
      },
      "execution_count": 13,
      "outputs": []
    },
    {
      "cell_type": "code",
      "source": [
        "# Frequency of each crime category\n",
        "crime_frequency = dataS['OFNS_DESC'].value_counts()\n",
        "crime_frequency.head()\n"
      ],
      "metadata": {
        "id": "V9eydSaRXSh_"
      },
      "execution_count": null,
      "outputs": []
    },
    {
      "cell_type": "code",
      "source": [
        "#10 most frequent crime categories\n",
        "crime_frequency = dataS['OFNS_DESC'].value_counts().nlargest(10)\n",
        "\n",
        "# Defining plot style\n",
        "sns.set_style('darkgrid')\n",
        "\n",
        "# Creating a bar plot for the crime frequency\n",
        "fig, ax = plt.subplots(figsize=(10, 6))\n",
        "ax.bar(crime_frequency.index, crime_frequency.values, color='#386B7F')\n",
        "\n",
        "# Describing plot title, labels, and rotation of x-axis labels\n",
        "ax.set_title('Number of Crimes per Category in NYC (2022)', fontsize=16)\n",
        "ax.set_xlabel('Crime Category', fontsize=12)\n",
        "ax.set_ylabel('Number of Crimes', fontsize=12)\n",
        "plt.xticks(rotation=70)\n",
        "\n",
        "# Adding gridlines and annotations for the values\n",
        "ax.grid(axis='y', linestyle='--', alpha=0.7)\n",
        "for i, v in enumerate(crime_frequency.values):\n",
        "    ax.text(i, v+50, str(v), ha='center', fontsize=10)\n",
        "\n",
        "plt.show()\n",
        "\n"
      ],
      "metadata": {
        "id": "ydG42e0CrKBu"
      },
      "execution_count": null,
      "outputs": []
    },
    {
      "cell_type": "code",
      "source": [
        "#Number of arrests by borough\n",
        "boroughs = dataS['ARREST_BORO'].value_counts()\n",
        "boroughs"
      ],
      "metadata": {
        "id": "el-vC9lWHeRJ"
      },
      "execution_count": null,
      "outputs": []
    },
    {
      "cell_type": "code",
      "source": [
        "# Setting the plot style\n",
        "sns.set_style('whitegrid')\n",
        "\n",
        "# Creating a bar plot for the number of arrests by borough\n",
        "plt.figure(figsize=(8, 6))\n",
        "ax = sns.barplot(x=boroughs.values, y=boroughs.index, color=(0, 0, 0.5, 0.8))\n",
        "\n",
        "# Setting plot labels and title\n",
        "plt.xlabel('Number of Arrests')\n",
        "plt.ylabel('Borough')\n",
        "plt.title('Arrests by Borough in NYC, 2022')\n",
        "\n",
        "# Adding annotations for the values\n",
        "for i, v in enumerate(boroughs.values):\n",
        "    ax.text(v+10, i, str(v), ha='left', va='center', fontsize=12)\n",
        "\n",
        "plt.show()\n"
      ],
      "metadata": {
        "id": "HAZRaywM6lvx"
      },
      "execution_count": null,
      "outputs": []
    },
    {
      "cell_type": "code",
      "source": [
        "# Count of perpetrator races\n",
        "perpetrator_race = dataS['PERP_RACE'].value_counts()\n",
        "perpetrator_race\n"
      ],
      "metadata": {
        "id": "16m227teG9-8"
      },
      "execution_count": null,
      "outputs": []
    },
    {
      "cell_type": "code",
      "source": [
        "# Grouping the data by perpetrator race and sex, and counting the number of crimes\n",
        "grouped_data = dataS.groupby(['PERP_RACE', 'PERP_SEX'])['OFNS_DESC'].count()\n",
        "\n",
        "# Dropping the 'UNKNOWN' and 'AMERICAN INDIAN/ALASKAN NATIVE' rows from the grouped data\n",
        "grouped_data = grouped_data.drop(['UNKNOWN', 'AMERICAN INDIAN/ALASKAN NATIVE'])\n",
        "\n",
        "# Reshaping the data into a pivot table\n",
        "pivot_data = grouped_data.unstack()\n",
        "\n",
        "# Setting the plot style\n",
        "sns.set_style('whitegrid')\n",
        "\n",
        "# Creating a stacked bar plot for crime statistics by race and gender\n",
        "ax = pivot_data.plot(kind='bar', stacked=True, figsize=(10, 6), width=0.8)\n",
        "\n",
        "# Setting plot labels and title\n",
        "plt.xlabel('Perpetrator Race', fontsize=14)\n",
        "plt.ylabel('Number of Crimes', fontsize=14)\n",
        "plt.title('Crime Statistics by Race and Gender', fontsize=16)\n",
        "\n",
        "# Adding a legend and annotations for the values\n",
        "handles, labels = ax.get_legend_handles_labels()\n",
        "labels = ['Female', 'Male']\n",
        "ax.legend(reversed(handles), reversed(labels), fontsize=12, loc='upper left', bbox_to_anchor=(1, 1))\n",
        "for patch in ax.patches:\n",
        "    width, height = patch.get_width(), patch.get_height()\n",
        "    x, y = patch.get_xy()\n",
        "    if height > 0.03 * ax.get_ylim()[1]:  \n",
        "        ax.text(x + width / 2, y + height / 2, int(height), ha='center', va='center', fontsize=12)\n",
        "\n",
        "plt.xticks(rotation=15, fontsize=10)\n",
        "ax.tick_params(axis='x', which='major', pad=10)\n",
        "ax.grid(axis='y', linestyle='-', alpha=0.5)\n",
        "\n",
        "plt.show()\n",
        "\n"
      ],
      "metadata": {
        "id": "ElcQBo6uOXaK"
      },
      "execution_count": null,
      "outputs": []
    },
    {
      "cell_type": "markdown",
      "source": [
        "**Time-Series Analysis**"
      ],
      "metadata": {
        "id": "UQi9uYBeAAgx"
      }
    },
    {
      "cell_type": "code",
      "source": [
        " # Import the ARIMA class\n",
        "from statsmodels.tsa.arima.model import ARIMA"
      ],
      "metadata": {
        "id": "Q-3xY3VY-Q6K"
      },
      "execution_count": 20,
      "outputs": []
    },
    {
      "cell_type": "code",
      "source": [
        "# Resample the data to monthly frequency\n",
        "monthly_data = dataS.resample('M', on='ARREST_DATE').size()\n",
        "\n",
        "# Create an ARIMA model for forecasting\n",
        "model = ARIMA(monthly_data, order=(1, 1, 1))\n",
        "model_fit = model.fit()"
      ],
      "metadata": {
        "id": "K5HkcKmeo-YC"
      },
      "execution_count": 21,
      "outputs": []
    },
    {
      "cell_type": "code",
      "source": [
        "# Setting the forecast start and end dates\n",
        "forecast_start = pd.to_datetime('2023-01-01')\n",
        "forecast_end = pd.to_datetime('2023-5-31')\n",
        "forecast = model_fit.predict(start=forecast_start, end=forecast_end)"
      ],
      "metadata": {
        "id": "Vtfw2CAko-_0"
      },
      "execution_count": 22,
      "outputs": []
    },
    {
      "cell_type": "code",
      "source": [
        "# Plotting the original data and the forecast\n",
        "plt.plot(monthly_data.index, monthly_data.values, label='Original Data')\n",
        "plt.plot(forecast.index, forecast.values, label='Forecast')\n",
        "plt.xlabel('Month')\n",
        "plt.ylabel('Number of Crimes')\n",
        "plt.title('Crime Rate Forecast: Beginning Months of 2023')\n",
        "plt.legend()\n",
        "plt.xticks(rotation=45)\n",
        "plt.grid(True)\n",
        "plt.show()\n"
      ],
      "metadata": {
        "id": "QhscuaLfo8Hp",
        "colab": {
          "base_uri": "https://localhost:8080/",
          "height": 508
        },
        "outputId": "0dc342e9-1981-48d7-c7e4-df169821044f"
      },
      "execution_count": 23,
      "outputs": [
        {
          "output_type": "display_data",
          "data": {
            "text/plain": [
              "<Figure size 640x480 with 1 Axes>"
            ],
            "image/png": "[encoded data removed]"
          },
          "metadata": {}
        }
      ]
    }
  ]
}